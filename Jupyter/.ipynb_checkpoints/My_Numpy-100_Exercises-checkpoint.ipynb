{
 "cells": [
  {
   "cell_type": "markdown",
   "metadata": {},
   "source": [
    "# My_Numpy-100_Exercises"
   ]
  },
  {
   "cell_type": "markdown",
   "metadata": {},
   "source": [
    "#### 1.引入numpy模块 "
   ]
  },
  {
   "cell_type": "code",
   "execution_count": 1,
   "metadata": {},
   "outputs": [],
   "source": [
    "import numpy as np"
   ]
  },
  {
   "cell_type": "markdown",
   "metadata": {},
   "source": [
    "#### 2.打印numpy的版本和配置信息 "
   ]
  },
  {
   "cell_type": "code",
   "execution_count": 3,
   "metadata": {},
   "outputs": [
    {
     "name": "stdout",
     "output_type": "stream",
     "text": [
      "1.14.3\n",
      "blis_info:\n",
      "  NOT AVAILABLE\n",
      "blas_mkl_info:\n",
      "  NOT AVAILABLE\n",
      "lapack_mkl_info:\n",
      "  NOT AVAILABLE\n",
      "openblas_lapack_info:\n",
      "    define_macros = [('HAVE_CBLAS', None)]\n",
      "    library_dirs = ['C:\\\\projects\\\\numpy-wheels-jc1cl\\\\numpy\\\\build\\\\openblas']\n",
      "    libraries = ['openblas']\n",
      "    language = f77\n",
      "openblas_info:\n",
      "    define_macros = [('HAVE_CBLAS', None)]\n",
      "    library_dirs = ['C:\\\\projects\\\\numpy-wheels-jc1cl\\\\numpy\\\\build\\\\openblas']\n",
      "    libraries = ['openblas']\n",
      "    language = f77\n",
      "blas_opt_info:\n",
      "    define_macros = [('HAVE_CBLAS', None)]\n",
      "    library_dirs = ['C:\\\\projects\\\\numpy-wheels-jc1cl\\\\numpy\\\\build\\\\openblas']\n",
      "    libraries = ['openblas']\n",
      "    language = f77\n",
      "lapack_opt_info:\n",
      "    define_macros = [('HAVE_CBLAS', None)]\n",
      "    library_dirs = ['C:\\\\projects\\\\numpy-wheels-jc1cl\\\\numpy\\\\build\\\\openblas']\n",
      "    libraries = ['openblas']\n",
      "    language = f77\n",
      "None\n"
     ]
    }
   ],
   "source": [
    "print(np.__version__)\n",
    "print(np.show_config())"
   ]
  },
  {
   "cell_type": "markdown",
   "metadata": {},
   "source": [
    "#### 3.创建一个大小位10的空向量 "
   ]
  },
  {
   "cell_type": "code",
   "execution_count": 4,
   "metadata": {},
   "outputs": [
    {
     "name": "stdout",
     "output_type": "stream",
     "text": [
      "[0. 0. 0. 0. 0. 0. 0. 0. 0. 0.]\n"
     ]
    }
   ],
   "source": [
    "Z = np.zeros(10)\n",
    "print(Z)"
   ]
  },
  {
   "cell_type": "markdown",
   "metadata": {},
   "source": [
    "#### 4.如何获取数据的r内存占用大小"
   ]
  },
  {
   "cell_type": "code",
   "execution_count": 8,
   "metadata": {},
   "outputs": [
    {
     "name": "stdout",
     "output_type": "stream",
     "text": [
      "800 bytes\n"
     ]
    }
   ],
   "source": [
    "Z = np.zeros((10,10))\n",
    "print(\"%d bytes\" %(Z.size * Z.itemsize))"
   ]
  },
  {
   "cell_type": "markdown",
   "metadata": {},
   "source": [
    "#### 5.jypyter的魔法函数使用,查看numpy的add使用文档"
   ]
  },
  {
   "cell_type": "code",
   "execution_count": 21,
   "metadata": {},
   "outputs": [
    {
     "name": "stdout",
     "output_type": "stream",
     "text": [
      "add(x1, x2, /, out=None, *, where=True, casting='same_kind', order='K', dtype=None, subok=True[, signature, extobj])\n",
      "\n",
      "Add arguments element-wise.\n",
      "\n",
      "Parameters\n",
      "----------\n",
      "x1, x2 : array_like\n",
      "    The arrays to be added.  If ``x1.shape != x2.shape``, they must be\n",
      "    broadcastable to a common shape (which may be the shape of one or\n",
      "    the other).\n",
      "out : ndarray, None, or tuple of ndarray and None, optional\n",
      "    A location into which the result is stored. If provided, it must have\n",
      "    a shape that the inputs broadcast to. If not provided or `None`,\n",
      "    a freshly-allocated array is returned. A tuple (possible only as a\n",
      "    keyword argument) must have length equal to the number of outputs.\n",
      "where : array_like, optional\n",
      "    Values of True indicate to calculate the ufunc at that position, values\n",
      "    of False indicate to leave the value in the output alone.\n",
      "**kwargs\n",
      "    For other keyword-only arguments, see the\n",
      "    :ref:`ufunc docs <ufuncs.kwargs>`.\n",
      "\n",
      "Returns\n",
      "-------\n",
      "add : ndarray or scalar\n",
      "    The sum of `x1` and `x2`, element-wise.  Returns a scalar if\n",
      "    both  `x1` and `x2` are scalars.\n",
      "\n",
      "Notes\n",
      "-----\n",
      "Equivalent to `x1` + `x2` in terms of array broadcasting.\n",
      "\n",
      "Examples\n",
      "--------\n",
      ">>> np.add(1.0, 4.0)\n",
      "5.0\n",
      ">>> x1 = np.arange(9.0).reshape((3, 3))\n",
      ">>> x2 = np.arange(3.0)\n",
      ">>> np.add(x1, x2)\n",
      "array([[  0.,   2.,   4.],\n",
      "       [  3.,   5.,   7.],\n",
      "       [  6.,   8.,  10.]])\n"
     ]
    }
   ],
   "source": [
    "%run doc.py"
   ]
  },
  {
   "cell_type": "markdown",
   "metadata": {},
   "source": [
    "#### 6.创建一个大小为10的空向量，并且第4个元素的值为1"
   ]
  },
  {
   "cell_type": "code",
   "execution_count": 22,
   "metadata": {},
   "outputs": [
    {
     "name": "stdout",
     "output_type": "stream",
     "text": [
      "[0. 0. 0. 0. 1. 0. 0. 0. 0. 0.]\n"
     ]
    }
   ],
   "source": [
    "Z = np.zeros(10)\n",
    "Z[4] = 1\n",
    "print(Z)"
   ]
  },
  {
   "cell_type": "markdown",
   "metadata": {},
   "source": [
    "#### 7.创建一个10 - 49的向量"
   ]
  },
  {
   "cell_type": "code",
   "execution_count": 24,
   "metadata": {},
   "outputs": [
    {
     "name": "stdout",
     "output_type": "stream",
     "text": [
      "[10 11 12 13 14 15 16 17 18 19 20 21 22 23 24 25 26 27 28 29 30 31 32 33\n",
      " 34 35 36 37 38 39 40 41 42 43 44 45 46 47 48 49]\n"
     ]
    }
   ],
   "source": [
    "Z = np.arange(10,50)\n",
    "print(Z)"
   ]
  },
  {
   "cell_type": "markdown",
   "metadata": {},
   "source": [
    "#### 8.反转一个向量"
   ]
  },
  {
   "cell_type": "code",
   "execution_count": 25,
   "metadata": {},
   "outputs": [
    {
     "name": "stdout",
     "output_type": "stream",
     "text": [
      "[49 48 47 46 45 44 43 42 41 40 39 38 37 36 35 34 33 32 31 30 29 28 27 26\n",
      " 25 24 23 22 21 20 19 18 17 16 15 14 13 12 11 10]\n"
     ]
    }
   ],
   "source": [
    "Z = Z[::-1]\n",
    "print(Z)"
   ]
  },
  {
   "cell_type": "markdown",
   "metadata": {},
   "source": [
    "#### 9.创建一个0 - 8 的3 * 3的矩阵"
   ]
  },
  {
   "cell_type": "code",
   "execution_count": 29,
   "metadata": {},
   "outputs": [
    {
     "name": "stdout",
     "output_type": "stream",
     "text": [
      "[[0 1 2]\n",
      " [3 4 5]\n",
      " [6 7 8]]\n"
     ]
    }
   ],
   "source": [
    "Z = np.arange(9).reshape(3,3)\n",
    "print(Z)"
   ]
  },
  {
   "cell_type": "markdown",
   "metadata": {},
   "source": [
    "#### 10.从一个集合[1,2,0,0,4,0] 找出非0元素的索引"
   ]
  },
  {
   "cell_type": "code",
   "execution_count": 30,
   "metadata": {},
   "outputs": [
    {
     "name": "stdout",
     "output_type": "stream",
     "text": [
      "(array([0, 1, 3], dtype=int64),)\n"
     ]
    }
   ],
   "source": [
    "Z = np.nonzero([1,2,0,4,0])\n",
    "print(Z)"
   ]
  },
  {
   "cell_type": "markdown",
   "metadata": {},
   "source": [
    "#### 11.创建一个3 * 3 的对角线为1的矩阵"
   ]
  },
  {
   "cell_type": "code",
   "execution_count": 37,
   "metadata": {},
   "outputs": [
    {
     "name": "stdout",
     "output_type": "stream",
     "text": [
      "[[1. 0. 0. 0. 0. 0.]\n",
      " [0. 1. 0. 0. 0. 0.]\n",
      " [0. 0. 1. 0. 0. 0.]\n",
      " [0. 0. 0. 1. 0. 0.]\n",
      " [0. 0. 0. 0. 1. 0.]]\n"
     ]
    }
   ],
   "source": [
    "# 通过k改变对角线的起始位置\n",
    "z = np.eye(5,6,k=0)\n",
    "print(z)"
   ]
  },
  {
   "cell_type": "markdown",
   "metadata": {},
   "source": [
    "#### 12.用随机数创建一个3 * 3 * 3 的集合"
   ]
  },
  {
   "cell_type": "code",
   "execution_count": 39,
   "metadata": {},
   "outputs": [
    {
     "name": "stdout",
     "output_type": "stream",
     "text": [
      "[[[0.97017375 0.79551673 0.70383346]\n",
      "  [0.27897494 0.80278597 0.12054369]\n",
      "  [0.4640362  0.31731788 0.17646163]]\n",
      "\n",
      " [[0.48944182 0.63726312 0.92605961]\n",
      "  [0.28803098 0.63153714 0.1773739 ]\n",
      "  [0.15969266 0.82024538 0.69248533]]\n",
      "\n",
      " [[0.89778387 0.32945547 0.37290346]\n",
      "  [0.71309173 0.52671911 0.65528813]\n",
      "  [0.99661025 0.27719406 0.55449551]]]\n"
     ]
    }
   ],
   "source": [
    "z = np.random.random((3,3,3))\n",
    "print(z)"
   ]
  },
  {
   "cell_type": "markdown",
   "metadata": {},
   "source": [
    "#### 13.用随机数创建一个10 * 10 的矩阵，并且求出矩阵中的最大值和最小值 "
   ]
  },
  {
   "cell_type": "code",
   "execution_count": 41,
   "metadata": {},
   "outputs": [
    {
     "name": "stdout",
     "output_type": "stream",
     "text": [
      "[[0.85361003 0.08826324 0.22942428 0.5092711  0.86092698 0.41535865\n",
      "  0.82678542 0.05830837 0.88363622 0.58178508]\n",
      " [0.47852311 0.29200506 0.57997187 0.58183382 0.97761779 0.07643221\n",
      "  0.96886174 0.20173139 0.09724045 0.31030468]\n",
      " [0.32710022 0.93997335 0.57831609 0.68332465 0.83757054 0.40250516\n",
      "  0.32167757 0.54449261 0.19117458 0.34410655]\n",
      " [0.62735862 0.88129561 0.76515282 0.58441711 0.20616976 0.58112807\n",
      "  0.09724948 0.43428993 0.83216641 0.49311903]\n",
      " [0.93243864 0.39746012 0.29875255 0.65905909 0.69364364 0.1295323\n",
      "  0.306891   0.43058916 0.68814176 0.15027477]\n",
      " [0.72714351 0.38250452 0.33754685 0.0388138  0.99708896 0.99061828\n",
      "  0.28609607 0.52150314 0.65077249 0.86695292]\n",
      " [0.63337961 0.99376578 0.2713966  0.26492333 0.23141583 0.42558646\n",
      "  0.99008099 0.84957906 0.01257131 0.73401195]\n",
      " [0.13172413 0.21070231 0.91941561 0.43094523 0.52460353 0.40619937\n",
      "  0.55443074 0.5712777  0.87575804 0.73516409]\n",
      " [0.25108403 0.78400315 0.62814704 0.16604965 0.56810906 0.74992751\n",
      "  0.67266145 0.62193818 0.61182549 0.30382788]\n",
      " [0.06387102 0.76720253 0.34716016 0.61133855 0.85958068 0.91370067\n",
      "  0.90041096 0.68454928 0.36055045 0.62850228]]\n",
      "0.012571314731116834 0.9970889588554195 0.5329167493857965\n"
     ]
    }
   ],
   "source": [
    "z = np.random.random((10,10))\n",
    "zMin,zMax,zMean = z.min(),z.max(),z.mean()\n",
    "print(z)\n",
    "print(zMin,zMax,zMean)"
   ]
  },
  {
   "cell_type": "markdown",
   "metadata": {},
   "source": [
    "#### 14.创建一个大小为30的随机向量，并求平均值"
   ]
  },
  {
   "cell_type": "code",
   "execution_count": 42,
   "metadata": {},
   "outputs": [
    {
     "name": "stdout",
     "output_type": "stream",
     "text": [
      "0.43703221289211364\n"
     ]
    }
   ],
   "source": [
    "z = np.random.random(30)\n",
    "print(z.mean())"
   ]
  },
  {
   "cell_type": "markdown",
   "metadata": {},
   "source": [
    "#### 15.创建一个2维数组，并且所有边为1，内部值为0"
   ]
  },
  {
   "cell_type": "code",
   "execution_count": 47,
   "metadata": {},
   "outputs": [
    {
     "name": "stdout",
     "output_type": "stream",
     "text": [
      "[[1. 1. 1. 1. 1. 1. 1. 1. 1. 1.]\n",
      " [1. 0. 0. 0. 0. 0. 0. 0. 0. 1.]\n",
      " [1. 0. 0. 0. 0. 0. 0. 0. 0. 1.]\n",
      " [1. 0. 0. 0. 0. 0. 0. 0. 0. 1.]\n",
      " [1. 0. 0. 0. 0. 0. 0. 0. 0. 1.]\n",
      " [1. 0. 0. 0. 0. 0. 0. 0. 0. 1.]\n",
      " [1. 0. 0. 0. 0. 0. 0. 0. 0. 1.]\n",
      " [1. 0. 0. 0. 0. 0. 0. 0. 0. 1.]\n",
      " [1. 0. 0. 0. 0. 0. 0. 0. 0. 1.]\n",
      " [1. 1. 1. 1. 1. 1. 1. 1. 1. 1.]]\n"
     ]
    }
   ],
   "source": [
    "z = np.ones((10,10))\n",
    "z[1:-1,1:-1] = 0\n",
    "print(z)"
   ]
  },
  {
   "cell_type": "markdown",
   "metadata": {},
   "source": [
    "#### 16.创建一个10 * 10的矩阵，并且所有边为0"
   ]
  },
  {
   "cell_type": "code",
   "execution_count": 49,
   "metadata": {},
   "outputs": [
    {
     "name": "stdout",
     "output_type": "stream",
     "text": [
      "[[0. 0. 0. 0. 0. 0. 0. 0. 0. 0. 0. 0.]\n",
      " [0. 1. 1. 1. 1. 1. 1. 1. 1. 1. 1. 0.]\n",
      " [0. 1. 1. 1. 1. 1. 1. 1. 1. 1. 1. 0.]\n",
      " [0. 1. 1. 1. 1. 1. 1. 1. 1. 1. 1. 0.]\n",
      " [0. 1. 1. 1. 1. 1. 1. 1. 1. 1. 1. 0.]\n",
      " [0. 1. 1. 1. 1. 1. 1. 1. 1. 1. 1. 0.]\n",
      " [0. 1. 1. 1. 1. 1. 1. 1. 1. 1. 1. 0.]\n",
      " [0. 1. 1. 1. 1. 1. 1. 1. 1. 1. 1. 0.]\n",
      " [0. 1. 1. 1. 1. 1. 1. 1. 1. 1. 1. 0.]\n",
      " [0. 1. 1. 1. 1. 1. 1. 1. 1. 1. 1. 0.]\n",
      " [0. 1. 1. 1. 1. 1. 1. 1. 1. 1. 1. 0.]\n",
      " [0. 0. 0. 0. 0. 0. 0. 0. 0. 0. 0. 0.]]\n"
     ]
    }
   ],
   "source": [
    "z = np.ones((10,10))\n",
    "z = np.pad(z,pad_width=1,mode='constant',constant_values=0)\n",
    "print(z)"
   ]
  },
  {
   "cell_type": "markdown",
   "metadata": {},
   "source": [
    "#### 17.以下表达式的结果是什么呢？"
   ]
  },
  {
   "cell_type": "code",
   "execution_count": null,
   "metadata": {},
   "outputs": [],
   "source": [
    "print(0 * np.nan)\n",
    "print(np.nan == np.nan)\n",
    "print(np.inf > np.nan)\n",
    "print(np.nan - np.nan)\n",
    "print(np.nan in set([np.nan]))\n",
    "print(0.3 == 3 * 0.1)"
   ]
  },
  {
   "cell_type": "markdown",
   "metadata": {},
   "source": [
    "#### 18.创建一个5 * 5的矩阵，并将1，2，3，4 放置到矩阵对角线下面 "
   ]
  },
  {
   "cell_type": "code",
   "execution_count": 63,
   "metadata": {
    "scrolled": false
   },
   "outputs": [
    {
     "name": "stdout",
     "output_type": "stream",
     "text": [
      "[[0 0 0 0 0]\n",
      " [1 0 0 0 0]\n",
      " [0 2 0 0 0]\n",
      " [0 0 3 0 0]\n",
      " [0 0 0 4 0]]\n"
     ]
    }
   ],
   "source": [
    "z = np.diag(1 + np.arange(4),k=-1)\n",
    "print(z)\n",
    "# print(np.info(np.diag))"
   ]
  },
  {
   "cell_type": "markdown",
   "metadata": {},
   "source": [
    "#### 19.创建一个8 * 8 的矩阵，并按照国际象棋的方式进行填充"
   ]
  },
  {
   "cell_type": "code",
   "execution_count": 76,
   "metadata": {
    "scrolled": true
   },
   "outputs": [
    {
     "name": "stdout",
     "output_type": "stream",
     "text": [
      "[[0 1 0 1 0 1 0 1]\n",
      " [1 0 1 0 1 0 1 0]\n",
      " [0 1 0 1 0 1 0 1]\n",
      " [1 0 1 0 1 0 1 0]\n",
      " [0 1 0 1 0 1 0 1]\n",
      " [1 0 1 0 1 0 1 0]\n",
      " [0 1 0 1 0 1 0 1]\n",
      " [1 0 1 0 1 0 1 0]]\n"
     ]
    }
   ],
   "source": [
    "z = np.zeros((8,8),dtype=int)\n",
    "# 一维从索引1处开始按步长2到末尾，二维从索引0处开始按步长2到末尾。\n",
    "z[1::2,::2] = 1\n",
    "z[::2,1::2] = 1\n",
    "print(z)"
   ]
  },
  {
   "cell_type": "markdown",
   "metadata": {},
   "source": [
    "#### 20.查找99在6 * 7 * 8 矩阵中一维，二维，三维的索引值(x,y,z)"
   ]
  },
  {
   "cell_type": "code",
   "execution_count": 81,
   "metadata": {},
   "outputs": [
    {
     "name": "stdout",
     "output_type": "stream",
     "text": [
      "(1, 5, 3)\n"
     ]
    }
   ],
   "source": [
    "# 其过程类似：首先构造一个数组arr=np.array(range(6*7*8)).reshape((6,7,8));\n",
    "# 返回indices中的元素值在数组arr中对应值的索引位置。\n",
    "# (1,5,3)分别对应99在第1维、第2维、第3维和第4维中的位置。\n",
    "print(np.unravel_index(99,(6,7,8)))"
   ]
  },
  {
   "cell_type": "markdown",
   "metadata": {},
   "source": [
    "#### 21.使用tile()方法填充一个8 * 8 的国际象棋棋盘"
   ]
  },
  {
   "cell_type": "code",
   "execution_count": 87,
   "metadata": {},
   "outputs": [
    {
     "name": "stdout",
     "output_type": "stream",
     "text": [
      "[[0 1 0 1 0 1 0 1]\n",
      " [1 0 1 0 1 0 1 0]\n",
      " [0 1 0 1 0 1 0 1]\n",
      " [1 0 1 0 1 0 1 0]\n",
      " [0 1 0 1 0 1 0 1]\n",
      " [1 0 1 0 1 0 1 0]\n",
      " [0 1 0 1 0 1 0 1]\n",
      " [1 0 1 0 1 0 1 0]]\n"
     ]
    }
   ],
   "source": [
    "# 按照给定的次数copy一个数组\n",
    "z = np.tile(np.array([[0,1],[1,0]]),(4,4))\n",
    "# print(np.array([[0,1],[1,0]]))\n",
    "print(z)\n",
    "# print(np.info(np.tile))"
   ]
  },
  {
   "cell_type": "markdown",
   "metadata": {},
   "source": [
    "#### 22. 标准化一个5 * 5 的矩阵"
   ]
  },
  {
   "cell_type": "code",
   "execution_count": 100,
   "metadata": {},
   "outputs": [
    {
     "name": "stdout",
     "output_type": "stream",
     "text": [
      "[[-1.24976795 -0.04846375 -1.44139743 -0.07070032 -0.35562525]\n",
      " [ 1.3494671  -0.32474303  0.68067902 -1.72964567 -0.28702841]\n",
      " [ 1.36098873  0.16241536 -1.05143325  1.24001942  1.48004635]\n",
      " [ 1.47160695  0.87763771 -0.84249698  0.09496996  1.37835849]\n",
      " [ 0.67323162 -0.72994868 -0.86054198 -0.5812257  -1.1964023 ]]\n"
     ]
    }
   ],
   "source": [
    "z = np.random.random((5,5))\n",
    "# np.std表示全局标准差\n",
    "z = (z - np.mean(z)) / (np.std(z))\n",
    "print(z)"
   ]
  },
  {
   "cell_type": "markdown",
   "metadata": {},
   "source": [
    "#### 23. 创建一个自定义 dtype，将颜色描述为四个无符号字节(RGBA)"
   ]
  },
  {
   "cell_type": "code",
   "execution_count": 109,
   "metadata": {},
   "outputs": [
    {
     "name": "stdout",
     "output_type": "stream",
     "text": [
      "[('r', 'u1'), ('g', 'u1'), ('b', 'u1'), ('a', 'u1')]\n"
     ]
    }
   ],
   "source": [
    "color = np.dtype([('r',np.ubyte,1),('g',np.ubyte,1),('b',np.ubyte,1),('a',np.ubyte,1)])\n",
    "print(color)\n",
    "# print(np.info(np.ubyte))\n"
   ]
  },
  {
   "cell_type": "markdown",
   "metadata": {},
   "source": [
    "#### 24. 将一个5 * 3 的矩阵和一个3 * 2 的矩阵相乘"
   ]
  },
  {
   "cell_type": "code",
   "execution_count": 112,
   "metadata": {},
   "outputs": [
    {
     "name": "stdout",
     "output_type": "stream",
     "text": [
      "[[3. 3.]\n",
      " [3. 3.]\n",
      " [3. 3.]\n",
      " [3. 3.]\n",
      " [3. 3.]]\n"
     ]
    }
   ],
   "source": [
    "Z = np.dot(np.ones((5,3)),np.ones((3,2)))\n",
    "print(Z)"
   ]
  },
  {
   "cell_type": "markdown",
   "metadata": {},
   "source": [
    "#### 25. 给定一个一维数组，原地取反所有介于 3 和 8 之间的元素 "
   ]
  },
  {
   "cell_type": "code",
   "execution_count": 114,
   "metadata": {},
   "outputs": [
    {
     "name": "stdout",
     "output_type": "stream",
     "text": [
      "[ 0  1  2  3 -4 -5 -6 -7 -8  9 10]\n"
     ]
    }
   ],
   "source": [
    "Z = np.arange(11)\n",
    "Z[(3 < Z) & (Z <=8) ] *= -1\n",
    "print(Z)"
   ]
  },
  {
   "cell_type": "markdown",
   "metadata": {},
   "source": [
    "#### 26.  What is the output of the following script?"
   ]
  },
  {
   "cell_type": "code",
   "execution_count": 136,
   "metadata": {},
   "outputs": [
    {
     "name": "stdout",
     "output_type": "stream",
     "text": [
      "10\n",
      "10\n"
     ]
    }
   ],
   "source": [
    "print(sum(range(5),-1))\n",
    "from numpy import *\n",
    "print(sum(range(5),-1))\n",
    "# print(np.info(np.sum))\n",
    "# help(sum)"
   ]
  },
  {
   "cell_type": "markdown",
   "metadata": {},
   "source": [
    "#### 27. Consider an integer vector Z, which of these expressions are legal?"
   ]
  },
  {
   "cell_type": "code",
   "execution_count": 155,
   "metadata": {},
   "outputs": [
    {
     "name": "stdout",
     "output_type": "stream",
     "text": [
      "[ 0  1  4  9 16]\n",
      "[0 1 2 4 8]\n",
      "[False False False False False]\n",
      "[0.+0.j 0.+1.j 0.+2.j 0.+3.j 0.+4.j]\n",
      "[0. 1. 2. 3. 4.]\n"
     ]
    },
    {
     "ename": "ValueError",
     "evalue": "The truth value of an array with more than one element is ambiguous. Use a.any() or a.all()",
     "output_type": "error",
     "traceback": [
      "\u001b[1;31m---------------------------------------------------------------------------\u001b[0m",
      "\u001b[1;31mValueError\u001b[0m                                Traceback (most recent call last)",
      "\u001b[1;32m<ipython-input-155-9f208ed2b0ae>\u001b[0m in \u001b[0;36m<module>\u001b[1;34m()\u001b[0m\n\u001b[0;32m      5\u001b[0m \u001b[0mprint\u001b[0m\u001b[1;33m(\u001b[0m\u001b[1;36m1j\u001b[0m \u001b[1;33m*\u001b[0m \u001b[0mZ\u001b[0m\u001b[1;33m)\u001b[0m\u001b[1;33m\u001b[0m\u001b[0m\n\u001b[0;32m      6\u001b[0m \u001b[0mprint\u001b[0m\u001b[1;33m(\u001b[0m\u001b[0mZ\u001b[0m\u001b[1;33m/\u001b[0m\u001b[1;36m1\u001b[0m\u001b[1;33m/\u001b[0m\u001b[1;36m1\u001b[0m\u001b[1;33m)\u001b[0m\u001b[1;33m\u001b[0m\u001b[0m\n\u001b[1;32m----> 7\u001b[1;33m \u001b[0mprint\u001b[0m\u001b[1;33m(\u001b[0m\u001b[0mZ\u001b[0m\u001b[1;33m<\u001b[0m\u001b[0mZ\u001b[0m\u001b[1;33m>\u001b[0m\u001b[0mZ\u001b[0m\u001b[1;33m)\u001b[0m\u001b[1;33m\u001b[0m\u001b[0m\n\u001b[0m",
      "\u001b[1;31mValueError\u001b[0m: The truth value of an array with more than one element is ambiguous. Use a.any() or a.all()"
     ]
    }
   ],
   "source": [
    "Z = np.arange(5)\n",
    "print(Z * Z)\n",
    "print(2 << Z >> 2)\n",
    "print(Z < -Z)\n",
    "print(1j * Z)\n",
    "print(Z/1/1)\n",
    "print(Z<Z>Z)"
   ]
  },
  {
   "cell_type": "markdown",
   "metadata": {},
   "source": [
    "#### 28.What are the result of the following expressions?"
   ]
  },
  {
   "cell_type": "code",
   "execution_count": 159,
   "metadata": {},
   "outputs": [
    {
     "name": "stdout",
     "output_type": "stream",
     "text": [
      "nan\n",
      "0\n",
      "-2147483648.0\n"
     ]
    },
    {
     "name": "stderr",
     "output_type": "stream",
     "text": [
      "C:\\Users\\gl\\AppData\\Roaming\\Python\\Python34\\site-packages\\ipykernel_launcher.py:1: RuntimeWarning: invalid value encountered in true_divide\n",
      "  \"\"\"Entry point for launching an IPython kernel.\n",
      "C:\\Users\\gl\\AppData\\Roaming\\Python\\Python34\\site-packages\\ipykernel_launcher.py:2: RuntimeWarning: divide by zero encountered in floor_divide\n",
      "  \n"
     ]
    }
   ],
   "source": [
    "print(np.array(0) / np.array(0))\n",
    "print(np.array(0) // np.array(0))\n",
    "print(np.array(np.nan).astype(int).astype(float))"
   ]
  },
  {
   "cell_type": "markdown",
   "metadata": {},
   "source": [
    "#### 29. 如何从零舍入一个浮点数的数组"
   ]
  },
  {
   "cell_type": "code",
   "execution_count": 165,
   "metadata": {},
   "outputs": [
    {
     "name": "stdout",
     "output_type": "stream",
     "text": [
      "[ 4.93363224 -1.10078264  0.10578647 -9.06333223  7.26238309  7.09159537\n",
      "  0.28487998  7.86273368 -2.22170234  4.96304245]\n",
      "[  5.  -2.   1. -10.   8.   8.   1.   8.  -3.   5.]\n",
      "ceil(x, /, out=None, *, where=True, casting='same_kind', order='K', dtype=None, subok=True[, signature, extobj])\n",
      "\n",
      "Return the ceiling of the input, element-wise.\n",
      "\n",
      "The ceil of the scalar `x` is the smallest integer `i`, such that\n",
      "`i >= x`.  It is often denoted as :math:`\\lceil x \\rceil`.\n",
      "\n",
      "Parameters\n",
      "----------\n",
      "x : array_like\n",
      "    Input data.\n",
      "out : ndarray, None, or tuple of ndarray and None, optional\n",
      "    A location into which the result is stored. If provided, it must have\n",
      "    a shape that the inputs broadcast to. If not provided or `None`,\n",
      "    a freshly-allocated array is returned. A tuple (possible only as a\n",
      "    keyword argument) must have length equal to the number of outputs.\n",
      "where : array_like, optional\n",
      "    Values of True indicate to calculate the ufunc at that position, values\n",
      "    of False indicate to leave the value in the output alone.\n",
      "**kwargs\n",
      "    For other keyword-only arguments, see the\n",
      "    :ref:`ufunc docs <ufuncs.kwargs>`.\n",
      "\n",
      "Returns\n",
      "-------\n",
      "y : ndarray or scalar\n",
      "    The ceiling of each element in `x`, with `float` dtype.\n",
      "\n",
      "See Also\n",
      "--------\n",
      "floor, trunc, rint\n",
      "\n",
      "Examples\n",
      "--------\n",
      ">>> a = np.array([-1.7, -1.5, -0.2, 0.2, 1.5, 1.7, 2.0])\n",
      ">>> np.ceil(a)\n",
      "array([-1., -1., -0.,  1.,  2.,  2.,  2.])\n",
      "None\n"
     ]
    }
   ],
   "source": [
    "Z = np.random.uniform(-10,+10,10)\n",
    "print(Z)\n",
    "# np.ceil 向上取整\n",
    "print(np.copysign(np.ceil(np.abs(Z)),Z))\n",
    "# print(np.info(np.ceil))"
   ]
  },
  {
   "cell_type": "markdown",
   "metadata": {},
   "source": [
    "#### 30. 如何获取两个集合中相同的元素"
   ]
  },
  {
   "cell_type": "code",
   "execution_count": 166,
   "metadata": {},
   "outputs": [
    {
     "name": "stdout",
     "output_type": "stream",
     "text": [
      "[ 1 11 16 17]\n"
     ]
    }
   ],
   "source": [
    "Z1 = np.random.randint(0,20,10)\n",
    "Z2 = np.random.randint(0,20,10)\n",
    "print(np.intersect1d(Z1,Z2))"
   ]
  },
  {
   "cell_type": "markdown",
   "metadata": {},
   "source": [
    "#### 31.  如何忽略numpy的所有的warnnings"
   ]
  },
  {
   "cell_type": "code",
   "execution_count": 180,
   "metadata": {},
   "outputs": [
    {
     "ename": "NameError",
     "evalue": "python callback specified for divide by zero (in  true_divide) but no function found.",
     "output_type": "error",
     "traceback": [
      "\u001b[1;31m---------------------------------------------------------------------------\u001b[0m",
      "\u001b[1;31mNameError\u001b[0m                                 Traceback (most recent call last)",
      "\u001b[1;32m<ipython-input-180-5093bdcb9b03>\u001b[0m in \u001b[0;36m<module>\u001b[1;34m()\u001b[0m\n\u001b[0;32m      1\u001b[0m \u001b[1;31m# defaluts = np.seterr(all=\"ignore\")\u001b[0m\u001b[1;33m\u001b[0m\u001b[1;33m\u001b[0m\u001b[0m\n\u001b[0;32m      2\u001b[0m \u001b[0mdefaluts\u001b[0m \u001b[1;33m=\u001b[0m \u001b[0mnp\u001b[0m\u001b[1;33m.\u001b[0m\u001b[0mseterr\u001b[0m\u001b[1;33m(\u001b[0m\u001b[0mall\u001b[0m\u001b[1;33m=\u001b[0m\u001b[1;34m\"call\"\u001b[0m\u001b[1;33m)\u001b[0m\u001b[1;33m\u001b[0m\u001b[0m\n\u001b[1;32m----> 3\u001b[1;33m \u001b[0mZ\u001b[0m \u001b[1;33m=\u001b[0m \u001b[0mnp\u001b[0m\u001b[1;33m.\u001b[0m\u001b[0mones\u001b[0m\u001b[1;33m(\u001b[0m\u001b[1;36m1\u001b[0m\u001b[1;33m)\u001b[0m \u001b[1;33m/\u001b[0m \u001b[1;36m0\u001b[0m\u001b[1;33m\u001b[0m\u001b[0m\n\u001b[0m\u001b[0;32m      4\u001b[0m \u001b[1;33m\u001b[0m\u001b[0m\n\u001b[0;32m      5\u001b[0m \u001b[0m_\u001b[0m \u001b[1;33m=\u001b[0m \u001b[0mnp\u001b[0m\u001b[1;33m.\u001b[0m\u001b[0mseterr\u001b[0m\u001b[1;33m(\u001b[0m\u001b[1;33m**\u001b[0m\u001b[0mdefaluts\u001b[0m\u001b[1;33m)\u001b[0m\u001b[1;33m\u001b[0m\u001b[0m\n",
      "\u001b[1;31mNameError\u001b[0m: python callback specified for divide by zero (in  true_divide) but no function found."
     ]
    }
   ],
   "source": [
    "# defaluts = np.seterr(all=\"ignore\")\n",
    "defaluts = np.seterr(all=\"call\")\n",
    "Z = np.ones(1) / 0\n",
    "\n",
    "_ = np.seterr(**defaluts)\n",
    "\n",
    "# print(np.info(np.seterr))"
   ]
  },
  {
   "cell_type": "markdown",
   "metadata": {},
   "source": [
    "#### 32. Is the following expressions true?"
   ]
  },
  {
   "cell_type": "code",
   "execution_count": 181,
   "metadata": {},
   "outputs": [
    {
     "ename": "NameError",
     "evalue": "python callback specified for invalid value (in  sqrt) but no function found.",
     "output_type": "error",
     "traceback": [
      "\u001b[1;31m---------------------------------------------------------------------------\u001b[0m",
      "\u001b[1;31mNameError\u001b[0m                                 Traceback (most recent call last)",
      "\u001b[1;32m<ipython-input-181-16339fbc685e>\u001b[0m in \u001b[0;36m<module>\u001b[1;34m()\u001b[0m\n\u001b[1;32m----> 1\u001b[1;33m \u001b[0mnp\u001b[0m\u001b[1;33m.\u001b[0m\u001b[0msqrt\u001b[0m\u001b[1;33m(\u001b[0m\u001b[1;33m-\u001b[0m\u001b[1;36m1\u001b[0m\u001b[1;33m)\u001b[0m \u001b[1;33m==\u001b[0m \u001b[0mnp\u001b[0m\u001b[1;33m.\u001b[0m\u001b[0memath\u001b[0m\u001b[1;33m.\u001b[0m\u001b[0msqrt\u001b[0m\u001b[1;33m(\u001b[0m\u001b[1;33m-\u001b[0m\u001b[1;36m1\u001b[0m\u001b[1;33m)\u001b[0m\u001b[1;33m\u001b[0m\u001b[0m\n\u001b[0m",
      "\u001b[1;31mNameError\u001b[0m: python callback specified for invalid value (in  sqrt) but no function found."
     ]
    }
   ],
   "source": [
    "np.sqrt(-1) == np.emath.sqrt(-1)"
   ]
  },
  {
   "cell_type": "markdown",
   "metadata": {},
   "source": [
    "#### 33. 如何获取昨天，今天 和明天的日期格式数据"
   ]
  },
  {
   "cell_type": "code",
   "execution_count": 186,
   "metadata": {},
   "outputs": [
    {
     "name": "stdout",
     "output_type": "stream",
     "text": [
      "2021-09-12\n",
      "2021-09-13\n",
      "2021-09-14\n"
     ]
    }
   ],
   "source": [
    "yesterday = np.datetime64('today','D') - np.timedelta64(1,'D')\n",
    "today = np.datetime64('today','D')\n",
    "tomorrow = np.datetime64('today','D') + np.timedelta64(1,'D')\n",
    "print(yesterday)\n",
    "print(today)\n",
    "print(tomorrow)"
   ]
  },
  {
   "cell_type": "markdown",
   "metadata": {},
   "source": [
    "#### 34.如何获取2016年7月的所有日期 "
   ]
  },
  {
   "cell_type": "code",
   "execution_count": 188,
   "metadata": {},
   "outputs": [
    {
     "name": "stdout",
     "output_type": "stream",
     "text": [
      "['2016-07-01' '2016-07-02' '2016-07-03' '2016-07-04' '2016-07-05'\n",
      " '2016-07-06' '2016-07-07' '2016-07-08' '2016-07-09' '2016-07-10'\n",
      " '2016-07-11' '2016-07-12' '2016-07-13' '2016-07-14' '2016-07-15'\n",
      " '2016-07-16' '2016-07-17' '2016-07-18' '2016-07-19' '2016-07-20'\n",
      " '2016-07-21' '2016-07-22' '2016-07-23' '2016-07-24' '2016-07-25'\n",
      " '2016-07-26' '2016-07-27' '2016-07-28' '2016-07-29' '2016-07-30'\n",
      " '2016-07-31']\n"
     ]
    }
   ],
   "source": [
    "Z = np.arange('2016-07','2016-08',dtype='datetime64[D]')\n",
    "print(Z)"
   ]
  },
  {
   "cell_type": "markdown",
   "metadata": {},
   "source": [
    "#### 35.How to compute ((A+B)\\*(-A/2)) in place (without copy)? "
   ]
  },
  {
   "cell_type": "code",
   "execution_count": 194,
   "metadata": {},
   "outputs": [
    {
     "data": {
      "text/plain": [
       "array([-1.5, -1.5, -1.5])"
      ]
     },
     "execution_count": 194,
     "metadata": {},
     "output_type": "execute_result"
    }
   ],
   "source": [
    "A = np.ones(3) * 1\n",
    "B = np.ones(3) * 2\n",
    "C = np.ones(3) * 3\n",
    "np.add(A , B,out=B)\n",
    "np.divide(A, 2, out=A)\n",
    "np.negative(A, out=A)\n",
    "np.multiply(A, B, out=A)"
   ]
  },
  {
   "cell_type": "markdown",
   "metadata": {},
   "source": [
    "#### 36. 用 5 种方法提取集合中每个元素的整形部分"
   ]
  },
  {
   "cell_type": "code",
   "execution_count": 202,
   "metadata": {},
   "outputs": [
    {
     "name": "stdout",
     "output_type": "stream",
     "text": [
      "[2.16529282 3.84251889 8.19383671 8.38484328 7.14614389 1.68049052\n",
      " 0.97750661 3.74475893 5.76271576 9.46608317]\n",
      "[2. 3. 8. 8. 7. 1. 0. 3. 5. 9.]\n",
      "[2. 3. 8. 8. 7. 1. 0. 3. 5. 9.]\n",
      "[2 3 8 8 7 1 0 3 5 9]\n",
      "[2. 3. 8. 8. 7. 1. 0. 3. 5. 9.]\n",
      "[2. 3. 8. 8. 7. 1. 0. 3. 5. 9.]\n",
      "8.0\n"
     ]
    }
   ],
   "source": [
    "Z = np.random.uniform(0,10,10)\n",
    "print(Z)\n",
    "print(np.floor(Z))\n",
    "print(np.ceil(Z)-1)\n",
    "print(Z.astype(int))\n",
    "print(Z - Z%1)\n",
    "print(np.trunc(Z))\n",
    "# print(np.floor(Z)[2])"
   ]
  },
  {
   "cell_type": "markdown",
   "metadata": {},
   "source": [
    "#### 37. 创建一个5 * 5 的矩阵，并且每行数据从0 到 4 排列"
   ]
  },
  {
   "cell_type": "code",
   "execution_count": 203,
   "metadata": {},
   "outputs": [
    {
     "name": "stdout",
     "output_type": "stream",
     "text": [
      "[[0. 1. 2. 3. 4.]\n",
      " [0. 1. 2. 3. 4.]\n",
      " [0. 1. 2. 3. 4.]\n",
      " [0. 1. 2. 3. 4.]\n",
      " [0. 1. 2. 3. 4.]]\n"
     ]
    }
   ],
   "source": [
    "z = np.zeros((5,5))\n",
    "z += np.arange(0,5)\n",
    "print(z)"
   ]
  },
  {
   "cell_type": "markdown",
   "metadata": {},
   "source": [
    "#### 38. 创建一个生成 10 个整数并用它来构建数组的生成器函数"
   ]
  },
  {
   "cell_type": "code",
   "execution_count": 206,
   "metadata": {},
   "outputs": [
    {
     "name": "stdout",
     "output_type": "stream",
     "text": [
      "0\n",
      "1\n",
      "[2.16529282 3.84251889 8.19383671 8.38484328 7.14614389 1.68049052\n",
      " 0.97750661 3.74475893 5.76271576 9.46608317]\n"
     ]
    }
   ],
   "source": [
    "# 带yield的函数是一个生成器，而不是一个函数了，这个生成器有一个函数就是next函数，\n",
    "# next就相当于“下一步”生成哪个数，这一次的next开始的地方是接着上一次的next停止\n",
    "# 的地方执行的，所以调用next的时候，生成器并不会从generate函数的开始执行，只是接着上\n",
    "# 一步停止的地方开始，然后遇到yield后，return出要生成的数，此步就结束。\n",
    "\n",
    "def generate():\n",
    "    for x in range(10):\n",
    "        yield x\n",
    "g = generate()\n",
    "print(next(g))\n",
    "print(next(g))\n",
    "z = np.fromiter(generate(),dtype=float,count=-1)\n",
    "print(Z)"
   ]
  },
  {
   "cell_type": "markdown",
   "metadata": {},
   "source": [
    "#### 39. 创建一个大小为 10 的向量，从0 到 1，并将0 排除"
   ]
  },
  {
   "cell_type": "code",
   "execution_count": 216,
   "metadata": {},
   "outputs": [
    {
     "name": "stdout",
     "output_type": "stream",
     "text": [
      "[0.1 0.2 0.3 0.4 0.5 0.6 0.7 0.8 0.9 1. ]\n"
     ]
    }
   ],
   "source": [
    "# 返回指定间隔内均匀间隔的数字。\n",
    "Z = np.linspace(0,1,11,endpoint='False')[1:]\n",
    "print(Z)\n",
    "# print(np.info(np.linspace))"
   ]
  },
  {
   "cell_type": "markdown",
   "metadata": {},
   "source": [
    "#### 40.  创建一个大小为10的向量，并进行排序"
   ]
  },
  {
   "cell_type": "code",
   "execution_count": 217,
   "metadata": {},
   "outputs": [
    {
     "name": "stdout",
     "output_type": "stream",
     "text": [
      "[ 5 12 15 33 66 74 77 87 90 94]\n"
     ]
    }
   ],
   "source": [
    "Z = np.random.randint(1,100,10)\n",
    "Z.sort()\n",
    "print(Z)"
   ]
  },
  {
   "cell_type": "markdown",
   "metadata": {},
   "source": [
    "#### 41.如何累加一个数组中的元素，使其比np.sum() 更快 "
   ]
  },
  {
   "cell_type": "code",
   "execution_count": 220,
   "metadata": {
    "scrolled": true
   },
   "outputs": [
    {
     "data": {
      "text/plain": [
       "45"
      ]
     },
     "execution_count": 220,
     "metadata": {},
     "output_type": "execute_result"
    }
   ],
   "source": [
    "Z = np.arange(10)\n",
    "np.add.reduce(Z)\n",
    "# print(np.info(np.add.reduce))"
   ]
  },
  {
   "cell_type": "markdown",
   "metadata": {},
   "source": [
    "#### 42.创建两个随机的数组A 和 B，然后检查它们是否相等 "
   ]
  },
  {
   "cell_type": "code",
   "execution_count": 14,
   "metadata": {},
   "outputs": [
    {
     "name": "stdout",
     "output_type": "stream",
     "text": [
      "False\n",
      "False\n",
      "[1 0 0]\n",
      "[0 0 1]\n"
     ]
    }
   ],
   "source": [
    "A = np.random.randint(0,2,3)\n",
    "B = np.random.randint(0,2,3)\n",
    "\n",
    "# 假设数组的大小相同，且其值可以存在一定的容差\n",
    "# absolute(`a` - `b`) <= (`atol` + `rtol` * absolute(`b`))\n",
    "# rtol:相对容差\n",
    "# 绝对容差\n",
    "equal = np.allclose(A,B, rtol=1, atol=0)\n",
    "print(equal)\n",
    "\n",
    "# 数组大小必须相同，其值也必须相同\n",
    "equal_2 = np.array_equal(A,B,)\n",
    "print(equal_2)\n",
    "print(A)\n",
    "print(B)\n",
    "\n",
    "# print(np.info(np.allclose))"
   ]
  },
  {
   "cell_type": "markdown",
   "metadata": {},
   "source": [
    "#### 43. 固定数组，使其只读"
   ]
  },
  {
   "cell_type": "code",
   "execution_count": 17,
   "metadata": {},
   "outputs": [
    {
     "ename": "ValueError",
     "evalue": "assignment destination is read-only",
     "output_type": "error",
     "traceback": [
      "\u001b[1;31m---------------------------------------------------------------------------\u001b[0m",
      "\u001b[1;31mValueError\u001b[0m                                Traceback (most recent call last)",
      "\u001b[1;32m<ipython-input-17-e7ca576a283b>\u001b[0m in \u001b[0;36m<module>\u001b[1;34m()\u001b[0m\n\u001b[0;32m      1\u001b[0m \u001b[0mz\u001b[0m \u001b[1;33m=\u001b[0m \u001b[0mnp\u001b[0m\u001b[1;33m.\u001b[0m\u001b[0mzeros\u001b[0m\u001b[1;33m(\u001b[0m\u001b[1;36m10\u001b[0m\u001b[1;33m)\u001b[0m\u001b[1;33m\u001b[0m\u001b[0m\n\u001b[0;32m      2\u001b[0m \u001b[0mz\u001b[0m\u001b[1;33m.\u001b[0m\u001b[0mflags\u001b[0m\u001b[1;33m.\u001b[0m\u001b[0mwriteable\u001b[0m \u001b[1;33m=\u001b[0m \u001b[1;32mFalse\u001b[0m\u001b[1;33m\u001b[0m\u001b[0m\n\u001b[1;32m----> 3\u001b[1;33m \u001b[0mz\u001b[0m\u001b[1;33m[\u001b[0m\u001b[1;36m0\u001b[0m\u001b[1;33m]\u001b[0m \u001b[1;33m=\u001b[0m \u001b[1;36m1\u001b[0m\u001b[1;33m\u001b[0m\u001b[0m\n\u001b[0m",
      "\u001b[1;31mValueError\u001b[0m: assignment destination is read-only"
     ]
    }
   ],
   "source": [
    "z = np.zeros(10)\n",
    "z.flags.writeable = False\n",
    "z[0] = 1"
   ]
  },
  {
   "cell_type": "markdown",
   "metadata": {},
   "source": [
    "#### 44. 创建一个随机的 10 * 2 的矩阵，并将其平面坐标转换为极坐标 "
   ]
  },
  {
   "cell_type": "code",
   "execution_count": 19,
   "metadata": {},
   "outputs": [
    {
     "name": "stdout",
     "output_type": "stream",
     "text": [
      "[0.42347769 0.20420065 1.00471535 0.89022106 0.52110372 0.8533728\n",
      " 0.95738368 1.17358522 0.4950449  0.46069154]\n",
      "[0.76432846 1.28732602 0.96295935 1.43698972 0.41353163 0.10460425\n",
      " 0.70688315 0.70970222 0.53382144 1.08030106]\n"
     ]
    }
   ],
   "source": [
    "Z = np.random.random((10,2))\n",
    "X,Y = Z[:,0],Z[:,1]\n",
    "R = np.sqrt(X ** 2 + Y ** 2)\n",
    "T = np.arctan2(X,Y)\n",
    "print(R)\n",
    "print(T)"
   ]
  },
  {
   "cell_type": "markdown",
   "metadata": {},
   "source": [
    "#### 45. 创建一个大小为10的随机向量，并将其中最大值用0进行替换"
   ]
  },
  {
   "cell_type": "code",
   "execution_count": 28,
   "metadata": {},
   "outputs": [
    {
     "name": "stdout",
     "output_type": "stream",
     "text": [
      "[1 4 4 6 6 7 1 0]\n"
     ]
    }
   ],
   "source": [
    "Z = np.random.randint(1,10,8)\n",
    "# argmax 返回指定维度上的最大值的索引\n",
    "Z[Z.argmax()] = 0\n",
    "print(Z)\n",
    "# print(np.info(np.argmax))"
   ]
  },
  {
   "cell_type": "markdown",
   "metadata": {},
   "source": [
    "#### 46.  使用x 和 y 创建一个结构化数组，并[0,1] * [1,0]的方式覆盖其区域"
   ]
  },
  {
   "cell_type": "code",
   "execution_count": 37,
   "metadata": {},
   "outputs": [
    {
     "name": "stdout",
     "output_type": "stream",
     "text": [
      "[[(0., 0.) (0., 0.) (0., 0.) (0., 0.) (0., 0.)]\n",
      " [(0., 0.) (0., 0.) (0., 0.) (0., 0.) (0., 0.)]\n",
      " [(0., 0.) (0., 0.) (0., 0.) (0., 0.) (0., 0.)]\n",
      " [(0., 0.) (0., 0.) (0., 0.) (0., 0.) (0., 0.)]\n",
      " [(0., 0.) (0., 0.) (0., 0.) (0., 0.) (0., 0.)]]\n",
      "[[(0.  , 0.  ) (0.25, 0.  ) (0.5 , 0.  ) (0.75, 0.  ) (1.  , 0.  )]\n",
      " [(0.  , 0.25) (0.25, 0.25) (0.5 , 0.25) (0.75, 0.25) (1.  , 0.25)]\n",
      " [(0.  , 0.5 ) (0.25, 0.5 ) (0.5 , 0.5 ) (0.75, 0.5 ) (1.  , 0.5 )]\n",
      " [(0.  , 0.75) (0.25, 0.75) (0.5 , 0.75) (0.75, 0.75) (1.  , 0.75)]\n",
      " [(0.  , 1.  ) (0.25, 1.  ) (0.5 , 1.  ) (0.75, 1.  ) (1.  , 1.  )]]\n",
      " linspace(start, stop, num=50, endpoint=True, retstep=False, dtype=None)\n",
      "\n",
      "Return evenly spaced numbers over a specified interval.\n",
      "\n",
      "Returns `num` evenly spaced samples, calculated over the\n",
      "interval [`start`, `stop`].\n",
      "\n",
      "The endpoint of the interval can optionally be excluded.\n",
      "\n",
      "Parameters\n",
      "----------\n",
      "start : scalar\n",
      "    The starting value of the sequence.\n",
      "stop : scalar\n",
      "    The end value of the sequence, unless `endpoint` is set to False.\n",
      "    In that case, the sequence consists of all but the last of ``num + 1``\n",
      "    evenly spaced samples, so that `stop` is excluded.  Note that the step\n",
      "    size changes when `endpoint` is False.\n",
      "num : int, optional\n",
      "    Number of samples to generate. Default is 50. Must be non-negative.\n",
      "endpoint : bool, optional\n",
      "    If True, `stop` is the last sample. Otherwise, it is not included.\n",
      "    Default is True.\n",
      "retstep : bool, optional\n",
      "    If True, return (`samples`, `step`), where `step` is the spacing\n",
      "    between samples.\n",
      "dtype : dtype, optional\n",
      "    The type of the output array.  If `dtype` is not given, infer the data\n",
      "    type from the other input arguments.\n",
      "\n",
      "    .. versionadded:: 1.9.0\n",
      "\n",
      "Returns\n",
      "-------\n",
      "samples : ndarray\n",
      "    There are `num` equally spaced samples in the closed interval\n",
      "    ``[start, stop]`` or the half-open interval ``[start, stop)``\n",
      "    (depending on whether `endpoint` is True or False).\n",
      "step : float, optional\n",
      "    Only returned if `retstep` is True\n",
      "\n",
      "    Size of spacing between samples.\n",
      "\n",
      "\n",
      "See Also\n",
      "--------\n",
      "arange : Similar to `linspace`, but uses a step size (instead of the\n",
      "         number of samples).\n",
      "logspace : Samples uniformly distributed in log space.\n",
      "\n",
      "Examples\n",
      "--------\n",
      ">>> np.linspace(2.0, 3.0, num=5)\n",
      "array([ 2.  ,  2.25,  2.5 ,  2.75,  3.  ])\n",
      ">>> np.linspace(2.0, 3.0, num=5, endpoint=False)\n",
      "array([ 2. ,  2.2,  2.4,  2.6,  2.8])\n",
      ">>> np.linspace(2.0, 3.0, num=5, retstep=True)\n",
      "(array([ 2.  ,  2.25,  2.5 ,  2.75,  3.  ]), 0.25)\n",
      "\n",
      "Graphical illustration:\n",
      "\n",
      ">>> import matplotlib.pyplot as plt\n",
      ">>> N = 8\n",
      ">>> y = np.zeros(N)\n",
      ">>> x1 = np.linspace(0, 10, N, endpoint=True)\n",
      ">>> x2 = np.linspace(0, 10, N, endpoint=False)\n",
      ">>> plt.plot(x1, y, 'o')\n",
      "[<matplotlib.lines.Line2D object at 0x...>]\n",
      ">>> plt.plot(x2, y + 0.5, 'o')\n",
      "[<matplotlib.lines.Line2D object at 0x...>]\n",
      ">>> plt.ylim([-0.5, 1])\n",
      "(-0.5, 1)\n",
      ">>> plt.show()\n",
      "None\n"
     ]
    }
   ],
   "source": [
    "Z = np.zeros((5,5), dtype=[('x',float),('y',float)])\n",
    "print(Z)\n",
    "# print(np.info(np.zeros))\n",
    "# np.meshgrid :从坐标向量返回坐标矩阵\n",
    "# np.linespace:使用明确的数据将其范围进行等距分割\n",
    "Z['x'], Z['y'] = np.meshgrid(np.linspace(0,1,5),\n",
    "                             np.linspace(0,1,5))\n",
    "print(Z)\n",
    "# print(np.info(np.linspace))"
   ]
  }
 ],
 "metadata": {
  "kernelspec": {
   "display_name": "Python 3",
   "language": "python",
   "name": "python3"
  },
  "language_info": {
   "codemirror_mode": {
    "name": "ipython",
    "version": 3
   },
   "file_extension": ".py",
   "mimetype": "text/x-python",
   "name": "python",
   "nbconvert_exporter": "python",
   "pygments_lexer": "ipython3",
   "version": "3.4.3"
  }
 },
 "nbformat": 4,
 "nbformat_minor": 2
}
